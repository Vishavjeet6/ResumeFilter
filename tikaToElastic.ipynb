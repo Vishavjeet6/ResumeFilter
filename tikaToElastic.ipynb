{
 "cells": [
  {
   "cell_type": "markdown",
   "metadata": {},
   "source": [
    "## Memory Analysis for 5 pdf"
   ]
  },
  {
   "cell_type": "code",
   "execution_count": 1,
   "metadata": {},
   "outputs": [],
   "source": [
    "from tika import parser\n",
    "from elasticsearch import Elasticsearch\n",
    "import os\n",
    "import glob\n",
    "import pandas as pd\n",
    "import requests"
   ]
  },
  {
   "cell_type": "code",
   "execution_count": 148,
   "metadata": {},
   "outputs": [],
   "source": [
    "import json"
   ]
  },
  {
   "cell_type": "code",
   "execution_count": 2,
   "metadata": {},
   "outputs": [],
   "source": [
    "os.chdir(\"C:/Users/visha/Desktop/PDF\")\n",
    "files = glob.glob(\"*.pdf*\")"
   ]
  },
  {
   "cell_type": "code",
   "execution_count": 3,
   "metadata": {},
   "outputs": [
    {
     "name": "stdout",
     "output_type": "stream",
     "text": [
      "Total Files  5\n"
     ]
    }
   ],
   "source": [
    "print('Total Files ',len(files))"
   ]
  },
  {
   "cell_type": "code",
   "execution_count": 4,
   "metadata": {},
   "outputs": [
    {
     "name": "stdout",
     "output_type": "stream",
     "text": [
      "resume0.pdf\n",
      "resume1.pdf\n",
      "resume2.pdf\n",
      "resume3.pdf\n",
      "resume4.pdf\n"
     ]
    }
   ],
   "source": [
    "for pdfs in files:\n",
    "    print(pdfs)"
   ]
  },
  {
   "cell_type": "code",
   "execution_count": 5,
   "metadata": {},
   "outputs": [
    {
     "data": {
      "text/plain": [
       "['resume0.pdf', 'resume1.pdf', 'resume2.pdf', 'resume3.pdf', 'resume4.pdf']"
      ]
     },
     "execution_count": 5,
     "metadata": {},
     "output_type": "execute_result"
    }
   ],
   "source": [
    "files"
   ]
  },
  {
   "cell_type": "code",
   "execution_count": 46,
   "metadata": {},
   "outputs": [],
   "source": [
    "def parse_files(files):\n",
    "    this_loc = 1\n",
    "    df = pd.DataFrame(columns = (\"name\", \"content\"))\n",
    "    for file in files:\n",
    "        file_data = parser.from_file(file)\n",
    "        df.loc[this_loc] = file,file_data['content']\n",
    "        this_loc += 1\n",
    "    return df"
   ]
  },
  {
   "cell_type": "code",
   "execution_count": 47,
   "metadata": {},
   "outputs": [],
   "source": [
    "df = parse_files(files)"
   ]
  },
  {
   "cell_type": "code",
   "execution_count": 48,
   "metadata": {},
   "outputs": [
    {
     "data": {
      "text/html": [
       "<div>\n",
       "<style scoped>\n",
       "    .dataframe tbody tr th:only-of-type {\n",
       "        vertical-align: middle;\n",
       "    }\n",
       "\n",
       "    .dataframe tbody tr th {\n",
       "        vertical-align: top;\n",
       "    }\n",
       "\n",
       "    .dataframe thead th {\n",
       "        text-align: right;\n",
       "    }\n",
       "</style>\n",
       "<table border=\"1\" class=\"dataframe\">\n",
       "  <thead>\n",
       "    <tr style=\"text-align: right;\">\n",
       "      <th></th>\n",
       "      <th>name</th>\n",
       "      <th>content</th>\n",
       "    </tr>\n",
       "  </thead>\n",
       "  <tbody>\n",
       "    <tr>\n",
       "      <th>1</th>\n",
       "      <td>resume0.pdf</td>\n",
       "      <td>\\n\\n\\n\\n\\n\\n\\n\\n\\n\\n\\n\\n\\n\\n\\n\\n\\n\\n\\n\\n\\n\\n\\n...</td>\n",
       "    </tr>\n",
       "    <tr>\n",
       "      <th>2</th>\n",
       "      <td>resume1.pdf</td>\n",
       "      <td>\\n\\n\\n\\n\\n\\n\\n\\n\\n\\n\\n\\n\\n\\n\\n\\n\\n\\n\\n\\n\\n\\n\\n...</td>\n",
       "    </tr>\n",
       "    <tr>\n",
       "      <th>3</th>\n",
       "      <td>resume2.pdf</td>\n",
       "      <td>\\n\\n\\n\\n\\n\\n\\n\\n\\n\\n\\n\\n\\n\\n\\n\\n\\n\\n\\n\\n\\n\\n\\n...</td>\n",
       "    </tr>\n",
       "    <tr>\n",
       "      <th>4</th>\n",
       "      <td>resume3.pdf</td>\n",
       "      <td>\\n\\n\\n\\n\\n\\n\\n\\n\\n\\n\\n\\n\\n\\n\\n\\n\\n\\n\\n\\n\\n\\n\\n...</td>\n",
       "    </tr>\n",
       "    <tr>\n",
       "      <th>5</th>\n",
       "      <td>resume4.pdf</td>\n",
       "      <td>\\n\\n\\n\\n\\n\\n\\n\\n\\n\\n\\n\\n\\n\\n\\n\\n\\n\\n\\n\\n\\n\\n\\n...</td>\n",
       "    </tr>\n",
       "  </tbody>\n",
       "</table>\n",
       "</div>"
      ],
      "text/plain": [
       "          name                                            content\n",
       "1  resume0.pdf  \\n\\n\\n\\n\\n\\n\\n\\n\\n\\n\\n\\n\\n\\n\\n\\n\\n\\n\\n\\n\\n\\n\\n...\n",
       "2  resume1.pdf  \\n\\n\\n\\n\\n\\n\\n\\n\\n\\n\\n\\n\\n\\n\\n\\n\\n\\n\\n\\n\\n\\n\\n...\n",
       "3  resume2.pdf  \\n\\n\\n\\n\\n\\n\\n\\n\\n\\n\\n\\n\\n\\n\\n\\n\\n\\n\\n\\n\\n\\n\\n...\n",
       "4  resume3.pdf  \\n\\n\\n\\n\\n\\n\\n\\n\\n\\n\\n\\n\\n\\n\\n\\n\\n\\n\\n\\n\\n\\n\\n...\n",
       "5  resume4.pdf  \\n\\n\\n\\n\\n\\n\\n\\n\\n\\n\\n\\n\\n\\n\\n\\n\\n\\n\\n\\n\\n\\n\\n..."
      ]
     },
     "execution_count": 48,
     "metadata": {},
     "output_type": "execute_result"
    }
   ],
   "source": [
    "df.head()"
   ]
  },
  {
   "cell_type": "markdown",
   "metadata": {},
   "source": [
    "### memory usage in MB"
   ]
  },
  {
   "cell_type": "code",
   "execution_count": 49,
   "metadata": {},
   "outputs": [
    {
     "data": {
      "text/plain": [
       "0.028436"
      ]
     },
     "execution_count": 49,
     "metadata": {},
     "output_type": "execute_result"
    }
   ],
   "source": [
    "df.memory_usage(deep=True).sum()/1000000"
   ]
  },
  {
   "cell_type": "code",
   "execution_count": 152,
   "metadata": {
    "scrolled": false
   },
   "outputs": [
    {
     "name": "stdout",
     "output_type": "stream",
     "text": [
      "{\n",
      "  \"cluster_name\": \"elasticsearch\",\n",
      "  \"cluster_uuid\": \"1SQrs0E6Tgytd5LrHovRTw\",\n",
      "  \"name\": \"VISHAVJEET-PC\",\n",
      "  \"tagline\": \"You Know, for Search\",\n",
      "  \"version\": {\n",
      "    \"build_date\": \"2020-03-26T06:34:37.794943Z\",\n",
      "    \"build_flavor\": \"default\",\n",
      "    \"build_hash\": \"ef48eb35cf30adf4db14086e8aabd07ef6fb113f\",\n",
      "    \"build_snapshot\": false,\n",
      "    \"build_type\": \"zip\",\n",
      "    \"lucene_version\": \"8.4.0\",\n",
      "    \"minimum_index_compatibility_version\": \"6.0.0-beta1\",\n",
      "    \"minimum_wire_compatibility_version\": \"6.8.0\",\n",
      "    \"number\": \"7.6.2\"\n",
      "  }\n",
      "}\n"
     ]
    }
   ],
   "source": [
    "res = requests.get('http://localhost:9200')\n",
    "parsed = json.loads(res.content)\n",
    "print(json.dumps(parsed, indent=2, sort_keys=True))"
   ]
  },
  {
   "cell_type": "code",
   "execution_count": 51,
   "metadata": {},
   "outputs": [],
   "source": [
    "es = Elasticsearch([{'host': 'localhost', 'port': 9200}])"
   ]
  },
  {
   "cell_type": "code",
   "execution_count": 52,
   "metadata": {},
   "outputs": [],
   "source": [
    "col_names = df.columns"
   ]
  },
  {
   "cell_type": "code",
   "execution_count": 53,
   "metadata": {},
   "outputs": [],
   "source": [
    "for row_number in range(df.shape[0]):\n",
    "    body = dict([(name, str(df.iloc[row_number][name])) for name in col_names])\n",
    "    es.index(index = 'tika_index', doc_type='textcontent', body=body)"
   ]
  },
  {
   "cell_type": "markdown",
   "metadata": {},
   "source": [
    "### search "
   ]
  },
  {
   "cell_type": "code",
   "execution_count": 140,
   "metadata": {},
   "outputs": [],
   "source": [
    "def searchContent(content):\n",
    "    search_results = es.search(index = 'tika_index', doc_type='textcontent',\n",
    "                               body={\"_source\":\"name\",\n",
    "                                     'query':{'match_phrase':{\"content\":content\n",
    "                                             }}})\n",
    "    total_matches = search_results['hits']['total']\n",
    "    print(\"Total matches \", total_matches['value'])\n",
    "    for matches in search_results['hits']['hits']:\n",
    "        print(\"FileName - \", matches['_source']['name'])\n",
    "        print(\"Matching Score - \", matches['_score'])"
   ]
  },
  {
   "cell_type": "markdown",
   "metadata": {},
   "source": [
    "#### Search Vishavjeet"
   ]
  },
  {
   "cell_type": "code",
   "execution_count": 141,
   "metadata": {},
   "outputs": [
    {
     "name": "stdout",
     "output_type": "stream",
     "text": [
      "Total matches  1\n",
      "FileName -  resume1.pdf\n",
      "Matching Score -  1.811543\n"
     ]
    }
   ],
   "source": [
    "searchContent(\"vishavjeet\")"
   ]
  },
  {
   "cell_type": "markdown",
   "metadata": {},
   "source": [
    "#### search Lovely"
   ]
  },
  {
   "cell_type": "code",
   "execution_count": 142,
   "metadata": {},
   "outputs": [
    {
     "name": "stdout",
     "output_type": "stream",
     "text": [
      "Total matches  1\n",
      "FileName -  resume2.pdf\n",
      "Matching Score -  1.8874922\n"
     ]
    }
   ],
   "source": [
    "searchContent(\"lovely\")"
   ]
  },
  {
   "cell_type": "markdown",
   "metadata": {},
   "source": [
    "### search aman"
   ]
  },
  {
   "cell_type": "code",
   "execution_count": 143,
   "metadata": {},
   "outputs": [
    {
     "name": "stdout",
     "output_type": "stream",
     "text": [
      "Total matches  3\n",
      "FileName -  resume2.pdf\n",
      "Matching Score -  1.5165889\n",
      "FileName -  resume3.pdf\n",
      "Matching Score -  1.08482\n",
      "FileName -  resume4.pdf\n",
      "Matching Score -  1.0411689\n"
     ]
    }
   ],
   "source": [
    "searchContent(\"aman\")"
   ]
  },
  {
   "cell_type": "markdown",
   "metadata": {},
   "source": [
    "### Velore"
   ]
  },
  {
   "cell_type": "code",
   "execution_count": 144,
   "metadata": {},
   "outputs": [
    {
     "name": "stdout",
     "output_type": "stream",
     "text": [
      "Total matches  1\n",
      "FileName -  resume4.pdf\n",
      "Matching Score -  1.811543\n"
     ]
    }
   ],
   "source": [
    "searchContent(\"velore\")"
   ]
  },
  {
   "cell_type": "markdown",
   "metadata": {},
   "source": [
    "### search non existing name"
   ]
  },
  {
   "cell_type": "code",
   "execution_count": 145,
   "metadata": {},
   "outputs": [
    {
     "name": "stdout",
     "output_type": "stream",
     "text": [
      "Total matches  0\n"
     ]
    }
   ],
   "source": [
    "searchContent(\"aabrakadabra\")"
   ]
  },
  {
   "cell_type": "markdown",
   "metadata": {},
   "source": [
    "### search framework"
   ]
  },
  {
   "cell_type": "code",
   "execution_count": 146,
   "metadata": {},
   "outputs": [
    {
     "name": "stdout",
     "output_type": "stream",
     "text": [
      "Total matches  1\n",
      "FileName -  resume0.pdf\n",
      "Matching Score -  2.0084016\n"
     ]
    }
   ],
   "source": [
    "searchContent(\"framework\")"
   ]
  },
  {
   "cell_type": "markdown",
   "metadata": {},
   "source": [
    "### Total index Size"
   ]
  },
  {
   "cell_type": "code",
   "execution_count": 193,
   "metadata": {
    "scrolled": false
   },
   "outputs": [
    {
     "name": "stdout",
     "output_type": "stream",
     "text": [
      "Total index size -  {'size_in_bytes': 41403}\n"
     ]
    }
   ],
   "source": [
    "res = requests.get('http://localhost:9200/tika_index/_stats')\n",
    "index_size = json.loads(res.content)\n",
    "print(\"Total index size - \",index_size[\"indices\"][\"tika_index\"][\"total\"][\"store\"])"
   ]
  }
 ],
 "metadata": {
  "kernelspec": {
   "display_name": "Python 3",
   "language": "python",
   "name": "python3"
  },
  "language_info": {
   "codemirror_mode": {
    "name": "ipython",
    "version": 3
   },
   "file_extension": ".py",
   "mimetype": "text/x-python",
   "name": "python",
   "nbconvert_exporter": "python",
   "pygments_lexer": "ipython3",
   "version": "3.8.2"
  }
 },
 "nbformat": 4,
 "nbformat_minor": 4
}
